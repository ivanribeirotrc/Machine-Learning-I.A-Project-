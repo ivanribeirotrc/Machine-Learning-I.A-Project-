{
 "cells": [],
 "metadata": {
  "kernelspec": {
   "display_name": "Python 3.10.5 64-bit",
   "language": "python",
   "name": "python3"
  },
  "language_info": {
   "codemirror_mode": {
    "name": "ipython",
    "version": 3
   },
   "file_extension": ".py",
   "mimetype": "text/x-python",
   "name": "python",
   "nbconvert_exporter": "python",
   "pygments_lexer": "ipython3",
   "version": "3.10.5"
  },
  "orig_nbformat": 4,
  "vscode": {
   "interpreter": {
    "hash": "e40c27afe60976570b0e44f0173688cfc99a9ee67b418a31f052b1dc7c9b6fbd"
   }
  }
 },
 "nbformat": 4,
 "nbformat_minor": 2
}
