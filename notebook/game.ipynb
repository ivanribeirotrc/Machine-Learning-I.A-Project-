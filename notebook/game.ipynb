{
 "cells": [
  {
   "cell_type": "markdown",
   "metadata": {},
   "source": [
    "**Alunos** |\n",
    "\n",
    "*Antonio Sergio Cruz Silva Filho* - 1272023424\n",
    "\n",
    "*Bruno Ribeiro Seixas* - 12720111021\n",
    "\n",
    "*Ivan Araujo Ribeiro Neto* - 1272019300\n",
    "\n",
    "*Noah Italo Da Cunha Ugalde* - 1272019847\n",
    "\n",
    "*Victor Manoel Soares Silva Alves* - 12720110508\n",
    "\n",
    "**Docente** |\n",
    "\n",
    "*Galdir Damasceno Reges Junior*\n"
   ]
  },
  {
   "cell_type": "markdown",
   "metadata": {},
   "source": [
    "## Modificando os dados aleatoriamente."
   ]
  },
  {
   "cell_type": "code",
   "execution_count": 1,
   "metadata": {},
   "outputs": [],
   "source": [
    "import pandas as pb"
   ]
  }
 ],
 "metadata": {
  "kernelspec": {
   "display_name": "Python 3.10.8 64-bit",
   "language": "python",
   "name": "python3"
  },
  "language_info": {
   "codemirror_mode": {
    "name": "ipython",
    "version": 3
   },
   "file_extension": ".py",
   "mimetype": "text/x-python",
   "name": "python",
   "nbconvert_exporter": "python",
   "pygments_lexer": "ipython3",
   "version": "3.10.8"
  },
  "orig_nbformat": 4,
  "vscode": {
   "interpreter": {
    "hash": "369f2c481f4da34e4445cda3fffd2e751bd1c4d706f27375911949ba6bb62e1c"
   }
  }
 },
 "nbformat": 4,
 "nbformat_minor": 2
}
